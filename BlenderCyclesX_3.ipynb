{
  "nbformat": 4,
  "nbformat_minor": 0,
  "metadata": {
    "colab": {
      "name": "BlenderCyclesX_3.ipynb",
      "private_outputs": true,
      "provenance": [],
      "collapsed_sections": [],
      "include_colab_link": true
    },
    "kernelspec": {
      "name": "python3",
      "display_name": "Python 3"
    },
    "accelerator": "GPU"
  },
  "cells": [
    {
      "cell_type": "markdown",
      "metadata": {
        "id": "view-in-github",
        "colab_type": "text"
      },
      "source": [
        "<a href=\"https://colab.research.google.com/github/Aayushg416/BlenderRender/blob/main/BlenderCyclesX_3.ipynb\" target=\"_parent\"><img src=\"https://colab.research.google.com/assets/colab-badge.svg\" alt=\"Open In Colab\"/></a>"
      ]
    },
    {
      "cell_type": "code",
      "metadata": {
        "id": "sj8s2SFnlI3u"
      },
      "source": [
        "#Download Blender From Repository\n",
        "!wget -c https://download.blender.org/release/Blender2.93/blender-2.93.0-linux-x64.tar.xz\n"
      ],
      "execution_count": null,
      "outputs": []
    },
    {
      "cell_type": "code",
      "metadata": {
        "id": "zVvvjryuZJei"
      },
      "source": [
        "#Install Blender\n",
        "\n",
        "!tar xf blender-2.93.0-linux-x64.tar.xz"
      ],
      "execution_count": null,
      "outputs": []
    },
    {
      "cell_type": "code",
      "metadata": {
        "id": "r-NXFBcI63tK"
      },
      "source": [
        "!apt install libboost-all-dev\n",
        "!apt install libgl1-mesa-dev"
      ],
      "execution_count": null,
      "outputs": []
    },
    {
      "cell_type": "code",
      "metadata": {
        "id": "y72eBIMRlOe9"
      },
      "source": [
        "#Connect Google Drive\n",
        "from google.colab import drive\n",
        "drive.mount('/gdrive')"
      ],
      "execution_count": null,
      "outputs": []
    },
    {
      "cell_type": "code",
      "metadata": {
        "id": "0kUypTxtlUQM"
      },
      "source": [
        "#Set Paths to Blender Files\n",
        "filename = '/gdrive/MyDrive/BlenderRenders/Blender2.blend'"
      ],
      "execution_count": null,
      "outputs": []
    },
    {
      "cell_type": "code",
      "metadata": {
        "id": "LDTfhbvZ5Z-9"
      },
      "source": [
        "#Run Blender\n",
        "#!sudo ./blender-2.93.0-stable+blender-v293-release.84da05a8b806-linux.x86_64-release/blender -b $filename -noaudio -P 'GPU.py' -F 'PNG' -t 0 -E 'CYCLES' -f 1 -0 '/gdrive/MyDrive/BlenderRenders/frame_#####'\n",
        "!sudo ./blender-2.93.0-stable+blender-v293-release.84da05a8b806-linux.x86_64-release/blender -b $filename -noaudio -P 'drive/MyDrive/BlenderRenders/GPU.py' -E 'CYCLES' -f 1 -F 'PNG'\n"
      ],
      "execution_count": null,
      "outputs": []
    }
  ]
}